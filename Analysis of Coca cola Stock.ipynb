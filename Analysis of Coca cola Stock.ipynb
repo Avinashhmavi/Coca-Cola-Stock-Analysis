{
 "cells": [
  {
   "cell_type": "code",
   "execution_count": 2,
   "id": "78f662d8-0bc5-45ee-8705-fd9096c6d68f",
   "metadata": {},
   "outputs": [
    {
     "ename": "ModuleNotFoundError",
     "evalue": "No module named 'pandas'",
     "output_type": "error",
     "traceback": [
      "\u001b[0;31m---------------------------------------------------------------------------\u001b[0m",
      "\u001b[0;31mModuleNotFoundError\u001b[0m                       Traceback (most recent call last)",
      "Cell \u001b[0;32mIn[2], line 1\u001b[0m\n\u001b[0;32m----> 1\u001b[0m \u001b[38;5;28;01mimport\u001b[39;00m \u001b[38;5;21;01mpandas\u001b[39;00m \u001b[38;5;28;01mas\u001b[39;00m \u001b[38;5;21;01mpd\u001b[39;00m\n\u001b[1;32m      2\u001b[0m \u001b[38;5;28;01mimport\u001b[39;00m \u001b[38;5;21;01mseaborn\u001b[39;00m \u001b[38;5;28;01mas\u001b[39;00m \u001b[38;5;21;01msns\u001b[39;00m\n\u001b[1;32m      3\u001b[0m \u001b[38;5;28;01mimport\u001b[39;00m \u001b[38;5;21;01mmatplotlib\u001b[39;00m\u001b[38;5;21;01m.\u001b[39;00m\u001b[38;5;21;01mpyplot\u001b[39;00m \u001b[38;5;28;01mas\u001b[39;00m \u001b[38;5;21;01mplt\u001b[39;00m\n",
      "\u001b[0;31mModuleNotFoundError\u001b[0m: No module named 'pandas'"
     ]
    }
   ],
   "source": [
    "import pandas as pd\n",
    "import seaborn as sns\n",
    "import matplotlib.pyplot as plt\n",
    "import numpy as np\n"
   ]
  },
  {
   "cell_type": "code",
   "execution_count": null,
   "id": "5fa1ad1c-d2e2-415c-8a1e-7fab456610db",
   "metadata": {},
   "outputs": [],
   "source": [
    "pd.read_csv(\"/Users/avinashhm/Desktop/Coca Cola.csv\")"
   ]
  },
  {
   "cell_type": "code",
   "execution_count": null,
   "id": "29d5c25f-5dae-40c8-8660-cb1b13b80107",
   "metadata": {},
   "outputs": [],
   "source": [
    "data= pd.read_csv(\"/Users/avinashhm/Desktop/Coca Cola.csv\")"
   ]
  },
  {
   "cell_type": "code",
   "execution_count": null,
   "id": "182952a0-f461-428a-9cb7-b818024d9a8f",
   "metadata": {},
   "outputs": [],
   "source": [
    "data['Date'] = pd.to_datetime(data['Date'])\n",
    "data.sort_values('Date', inplace=True)\n"
   ]
  },
  {
   "cell_type": "markdown",
   "id": "cbd33997-965b-4ad2-bbf3-802cde84c107",
   "metadata": {},
   "source": [
    "Daily Return"
   ]
  },
  {
   "cell_type": "code",
   "execution_count": null,
   "id": "a58c8221-058f-4072-b060-cbf78b71becf",
   "metadata": {},
   "outputs": [],
   "source": [
    "data['Daily Return'] = data['Adj Close'].pct_change()\n"
   ]
  },
  {
   "cell_type": "code",
   "execution_count": null,
   "id": "678b22e1-0b87-4615-bf04-f2d98676af6f",
   "metadata": {},
   "outputs": [],
   "source": [
    "data['Daily Return']"
   ]
  },
  {
   "cell_type": "markdown",
   "id": "52cf354c-3a1b-44cc-83f9-3b0ef790b50b",
   "metadata": {},
   "source": [
    "CAGR Calculation"
   ]
  },
  {
   "cell_type": "code",
   "execution_count": null,
   "id": "bb0f4348-37ae-4364-8208-93efb7e21da1",
   "metadata": {},
   "outputs": [],
   "source": [
    "start_price = data['Adj Close'].iloc[0]\n",
    "end_price = data['Adj Close'].iloc[-1]\n",
    "num_years = (data['Date'].iloc[-1] - data['Date'].iloc[0]).days / 365.25\n",
    "cagr = ((end_price / start_price) ** (1 / num_years)) - 1\n",
    "print(f\"CAGR: {cagr:.2%}\")\n"
   ]
  },
  {
   "cell_type": "markdown",
   "id": "99350775-4a7c-421a-970e-f168ecc49281",
   "metadata": {},
   "source": [
    "Moving Averages"
   ]
  },
  {
   "cell_type": "code",
   "execution_count": null,
   "id": "e7671f77-7d08-4730-ba9b-a6bf81361737",
   "metadata": {},
   "outputs": [],
   "source": [
    "data['50-Day MA'] = data['Adj Close'].rolling(window=50).mean()\n",
    "data['200-Day MA'] = data['Adj Close'].rolling(window=200).mean()\n"
   ]
  },
  {
   "cell_type": "code",
   "execution_count": null,
   "id": "99e41908-41b1-409d-9a8d-2e9f003415ca",
   "metadata": {},
   "outputs": [],
   "source": [
    "data['200-Day MA']"
   ]
  },
  {
   "cell_type": "code",
   "execution_count": null,
   "id": "1c1a40f7-fbd7-430f-9548-816d1b9cc155",
   "metadata": {},
   "outputs": [],
   "source": [
    "data['50-Day MA']"
   ]
  },
  {
   "cell_type": "markdown",
   "id": "1b3b10e0-3cad-4577-93fe-4d63bb918a5f",
   "metadata": {},
   "source": [
    "Plot Trends"
   ]
  },
  {
   "cell_type": "code",
   "execution_count": null,
   "id": "732bc989-8f80-403c-bdbc-f1deb3541bf1",
   "metadata": {},
   "outputs": [],
   "source": [
    "import matplotlib.pyplot as plt\n",
    "\n",
    "plt.figure(figsize=(14, 7))\n",
    "plt.plot(data['Date'], data['Adj Close'], label='Adjusted Close', color='blue')\n",
    "plt.plot(data['Date'], data['50-Day MA'], label='50-Day MA', color='orange')\n",
    "plt.plot(data['Date'], data['200-Day MA'], label='200-Day MA', color='green')\n",
    "plt.title(\"Coca-Cola Stock Analysis\", fontsize=16)\n",
    "plt.xlabel(\"Year\", fontsize=12)\n",
    "plt.ylabel(\"Price (USD)\", fontsize=12)\n",
    "plt.legend(fontsize=12)\n",
    "plt.grid(True, linestyle='--', alpha=0.6)\n",
    "plt.show()\n"
   ]
  },
  {
   "cell_type": "markdown",
   "id": "622339a9-010b-462b-8e5d-be9abd5d583c",
   "metadata": {},
   "source": [
    "Calculate standard deviation of daily returns to measure volatility"
   ]
  },
  {
   "cell_type": "code",
   "execution_count": null,
   "id": "18c008d4-6357-47e4-968e-1942080c0d18",
   "metadata": {},
   "outputs": [],
   "source": [
    "volatility = data['Daily Return'].std() * (252 ** 0.5)  # Annualized\n",
    "print(f\"Annualized Volatility: {volatility:.2%}\")\n"
   ]
  },
  {
   "cell_type": "code",
   "execution_count": null,
   "id": "446e34b6-a3b0-4359-ac3d-7f041e722d18",
   "metadata": {},
   "outputs": [],
   "source": []
  },
  {
   "cell_type": "code",
   "execution_count": null,
   "id": "829bf72c-eb8f-470d-a690-6d5f5f9999d9",
   "metadata": {},
   "outputs": [],
   "source": []
  },
  {
   "cell_type": "code",
   "execution_count": null,
   "id": "84b34f11-f903-45df-abb1-bbf58ab50325",
   "metadata": {},
   "outputs": [],
   "source": []
  },
  {
   "cell_type": "markdown",
   "id": "b52e94e7-2f1c-4639-b746-983ce73aefec",
   "metadata": {},
   "source": [
    "Compute Technical Indicators"
   ]
  },
  {
   "cell_type": "code",
   "execution_count": null,
   "id": "bd24c4ee-dc24-478c-b9db-e778ebf8433e",
   "metadata": {},
   "outputs": [],
   "source": [
    "import pandas as pd\n",
    "import numpy as np\n",
    "\n",
    "# Load and preprocess data\n",
    "data = pd.read_csv(\"Coca Cola.csv\")\n",
    "data['Date'] = pd.to_datetime(data['Date'])\n",
    "data.set_index('Date', inplace=True)\n",
    "\n",
    "# Moving Averages\n",
    "data['20-Day MA'] = data['Adj Close'].rolling(window=20).mean()\n",
    "data['50-Day MA'] = data['Adj Close'].rolling(window=50).mean()\n",
    "data['200-Day MA'] = data['Adj Close'].rolling(window=200).mean()\n",
    "\n",
    "# RSI Calculation\n",
    "delta = data['Adj Close'].diff()\n",
    "gain = (delta.where(delta > 0, 0)).rolling(window=14).mean()\n",
    "loss = (-delta.where(delta < 0, 0)).rolling(window=14).mean()\n",
    "rs = gain / loss\n",
    "data['RSI'] = 100 - (100 / (1 + rs))\n",
    "\n",
    "# Bollinger Bands\n",
    "data['Upper Band'] = data['20-Day MA'] + (data['Adj Close'].rolling(window=20).std() * 2)\n",
    "data['Lower Band'] = data['20-Day MA'] - (data['Adj Close'].rolling(window=20).std())\n",
    "\n",
    "# MACD\n",
    "ema_12 = data['Adj Close'].ewm(span=12, adjust=False).mean()\n",
    "ema_26 = data['Adj Close'].ewm(span=26, adjust=False).mean()\n",
    "data['MACD'] = ema_12 - ema_26\n",
    "data['Signal Line'] = data['MACD'].ewm(span=9, adjust=False).mean()\n"
   ]
  },
  {
   "cell_type": "markdown",
   "id": "1ca7be79-51fc-4419-b583-eb42709ddf94",
   "metadata": {},
   "source": [
    "Candle stick Chart"
   ]
  },
  {
   "cell_type": "code",
   "execution_count": null,
   "id": "7ba4b161-61cb-4b56-8ea7-b7c719f9d817",
   "metadata": {},
   "outputs": [],
   "source": [
    "import mplfinance as mpf\n",
    "\n",
    "# Plot candlestick chart with technical indicators\n",
    "mpf.plot(\n",
    "    data,\n",
    "    type='candle',\n",
    "    mav=(20, 50, 200),\n",
    "    volume=True,\n",
    "    title='Coca-Cola Candlestick Chart',\n",
    "    style='yahoo'\n",
    ")\n"
   ]
  },
  {
   "cell_type": "markdown",
   "id": "f4776b51-64c2-4998-9a24-408d1c58bcb6",
   "metadata": {},
   "source": [
    "Visualize Indicators"
   ]
  },
  {
   "cell_type": "code",
   "execution_count": null,
   "id": "897b6655-643b-43a7-953f-0575ccf8b9b7",
   "metadata": {},
   "outputs": [],
   "source": [
    "import matplotlib.pyplot as plt\n",
    "\n",
    "# RSI Plot\n",
    "plt.figure(figsize=(14, 6))\n",
    "plt.plot(data.index, data['RSI'], label='RSI', color='purple')\n",
    "plt.axhline(70, color='red', linestyle='--', label='Overbought')\n",
    "plt.axhline(30, color='green', linestyle='--', label='Oversold')\n",
    "plt.title('RSI Indicator', fontsize=16)\n",
    "plt.legend()\n",
    "plt.show()\n",
    "\n",
    "# Bollinger Bands Plot\n",
    "plt.figure(figsize=(14, 7))\n",
    "plt.plot(data.index, data['Adj Close'], label='Adjusted Close', color='blue')\n",
    "plt.plot(data.index, data['Upper Band'], label='Upper Band', color='orange')\n",
    "plt.plot(data.index, data['Lower Band'], label='Lower Band', color='green')\n",
    "plt.fill_between(data.index, data['Lower Band'], data['Upper Band'], color='gray', alpha=0.2)\n",
    "plt.title('Bollinger Bands', fontsize=16)\n",
    "plt.legend()\n",
    "plt.show()\n"
   ]
  },
  {
   "cell_type": "raw",
   "id": "7f3f63ff-a7cb-4fdf-850b-577301b5e094",
   "metadata": {},
   "source": [
    "Summary of Analysis\n",
    "Candlestick Chart: Offers a clear visual representation of price movements (open, high, low, close).\n",
    "RSI: Identifies overbought (>70) and oversold (<30) conditions.\n",
    "Bollinger Bands: Highlights periods of high/low volatility.\n",
    "MACD: Provides buy/sell signals based on line crossovers."
   ]
  },
  {
   "cell_type": "code",
   "execution_count": null,
   "id": "989abe43-266a-4134-9bd0-2ceb839f35fc",
   "metadata": {},
   "outputs": [],
   "source": [
    "# Candlestick chart for the last 50 days\n",
    "data_50_days = data.tail(50)\n",
    "mpf.plot(data_50_days, type='candle', style='yahoo', title=\"Coca-Cola - 50 Days Candlestick\", volume=True)\n",
    "\n",
    "# Candlestick chart for the last 200 days\n",
    "data_200_days = data.tail(200)\n",
    "mpf.plot(data_200_days, type='candle', style='yahoo', title=\"Coca-Cola - 200 Days Candlestick\", volume=True)\n",
    "\n",
    "#Candlestick chart for the last 365 days\n",
    "data_365_days = data.tail(365)\n",
    "mpf.plot(data_365_days, type='candle', style='yahoo', title=\"Coca-Cola - 365 Days Candlestick\", volume=True)\n"
   ]
  },
  {
   "cell_type": "code",
   "execution_count": null,
   "id": "4e505eb4-a3c8-41f4-b545-9e415d72c218",
   "metadata": {},
   "outputs": [],
   "source": []
  },
  {
   "cell_type": "code",
   "execution_count": null,
   "id": "4f723249-e7d7-4af8-a2ff-b89c17d4e921",
   "metadata": {},
   "outputs": [],
   "source": []
  },
  {
   "cell_type": "code",
   "execution_count": null,
   "id": "789c0dcc-ff32-40ef-ac5d-87db6c7c8e76",
   "metadata": {},
   "outputs": [],
   "source": []
  },
  {
   "cell_type": "code",
   "execution_count": null,
   "id": "d19c5331-30aa-4d80-a5c0-ee20b3edd00b",
   "metadata": {},
   "outputs": [],
   "source": []
  },
  {
   "cell_type": "markdown",
   "id": "d26a60b8-d581-4f04-a9e8-257a58deac76",
   "metadata": {},
   "source": [
    "Findings"
   ]
  },
  {
   "cell_type": "code",
   "execution_count": null,
   "id": "8fd9221d-ea01-4b00-bb5b-acf6916e715a",
   "metadata": {},
   "outputs": [],
   "source": [
    "import pandas as pd\n",
    "import numpy as np\n",
    "import matplotlib.pyplot as plt\n",
    "\n",
    "# Load the stock data (Make sure to update the path if necessary)\n",
    "data = pd.read_csv('Coca Cola.csv')\n",
    "data['Date'] = pd.to_datetime(data['Date'])\n",
    "data.set_index('Date', inplace=True)\n",
    "\n",
    "# Calculate moving averages\n",
    "data['50-Day MA'] = data['Adj Close'].rolling(window=50).mean()\n",
    "data['200-Day MA'] = data['Adj Close'].rolling(window=200).mean()\n",
    "\n",
    "# Calculate RSI (Relative Strength Index)\n",
    "delta = data['Adj Close'].diff()\n",
    "gain = (delta.where(delta > 0, 0)).rolling(window=14).mean()\n",
    "loss = (-delta.where(delta < 0, 0)).rolling(window=14).mean()\n",
    "rs = gain / loss\n",
    "data['RSI'] = 100 - (100 / (1 + rs))\n",
    "\n",
    "# Calculate Bollinger Bands\n",
    "data['Upper Band'] = data['50-Day MA'] + (data['Adj Close'].rolling(window=50).std() * 2)\n",
    "data['Lower Band'] = data['50-Day MA'] - (data['Adj Close'].rolling(window=50).std() * 2)\n",
    "\n",
    "# Calculate MACD (Moving Average Convergence Divergence)\n",
    "ema_12 = data['Adj Close'].ewm(span=12, adjust=False).mean()\n",
    "ema_26 = data['Adj Close'].ewm(span=26, adjust=False).mean()\n",
    "data['MACD'] = ema_12 - ema_26\n",
    "data['Signal Line'] = data['MACD'].ewm(span=9, adjust=False).mean()\n",
    "\n",
    "# Identify key findings\n",
    "findings = {}\n",
    "\n",
    "# 1. Moving Averages\n",
    "findings['50-Day MA'] = data['50-Day MA'].iloc[-1]\n",
    "findings['200-Day MA'] = data['200-Day MA'].iloc[-1]\n",
    "if findings['50-Day MA'] > findings['200-Day MA']:\n",
    "    findings['MA Trend'] = \"Uptrend (50-Day MA is above 200-Day MA)\"\n",
    "else:\n",
    "    findings['MA Trend'] = \"Downtrend (50-Day MA is below 200-Day MA)\"\n",
    "\n",
    "# 2. RSI Analysis\n",
    "findings['RSI'] = data['RSI'].iloc[-1]\n",
    "if findings['RSI'] > 70:\n",
    "    findings['RSI Trend'] = \"Overbought (RSI > 70)\"\n",
    "elif findings['RSI'] < 30:\n",
    "    findings['RSI Trend'] = \"Oversold (RSI < 30)\"\n",
    "else:\n",
    "    findings['RSI Trend'] = \"Neutral (RSI between 30 and 70)\"\n",
    "\n",
    "# 3. MACD Analysis\n",
    "findings['MACD'] = data['MACD'].iloc[-1]\n",
    "findings['Signal Line'] = data['Signal Line'].iloc[-1]\n",
    "if findings['MACD'] > findings['Signal Line']:\n",
    "    findings['MACD Trend'] = \"Bullish (MACD > Signal Line)\"\n",
    "else:\n",
    "    findings['MACD Trend'] = \"Bearish (MACD < Signal Line)\"\n",
    "\n",
    "# 4. Bollinger Bands\n",
    "findings['Upper Band'] = data['Upper Band'].iloc[-1]\n",
    "findings['Lower Band'] = data['Lower Band'].iloc[-1]\n",
    "if data['Adj Close'].iloc[-1] > findings['Upper Band']:\n",
    "    findings['Bollinger Bands Trend'] = \"Price is above Upper Band (Potential Overbought)\"\n",
    "elif data['Adj Close'].iloc[-1] < findings['Lower Band']:\n",
    "    findings['Bollinger Bands Trend'] = \"Price is below Lower Band (Potential Oversold)\"\n",
    "else:\n",
    "    findings['Bollinger Bands Trend'] = \"Price is within Bands (Normal)\"\n",
    "\n",
    "# 5. General Candlestick Analysis (50, 200, 365 days)\n",
    "findings['Candlestick Insights'] = {\n",
    "    '50-Day Period': data.tail(50).iloc[-1][['Open', 'Close', 'High', 'Low']].to_dict(),\n",
    "    '200-Day Period': data.tail(200).iloc[-1][['Open', 'Close', 'High', 'Low']].to_dict(),\n",
    "    '365-Day Period': data.tail(365).iloc[-1][['Open', 'Close', 'High', 'Low']].to_dict()\n",
    "}\n",
    "\n",
    "# Print Findings\n",
    "print(\"Stock Analysis Report:\")\n",
    "for key, value in findings.items():\n",
    "    print(f\"\\n{key}: {value}\")\n"
   ]
  },
  {
   "cell_type": "code",
   "execution_count": null,
   "id": "beab6b1f-8023-4ae6-807f-1e22236e83fc",
   "metadata": {},
   "outputs": [],
   "source": []
  },
  {
   "cell_type": "code",
   "execution_count": null,
   "id": "f0f2db4d-5329-4b91-93b3-47157bb9acab",
   "metadata": {},
   "outputs": [],
   "source": []
  },
  {
   "cell_type": "markdown",
   "id": "1eb88ff3-769c-48b5-ac8d-bd7cc7dd00f4",
   "metadata": {},
   "source": [
    "Other Analysis"
   ]
  },
  {
   "cell_type": "markdown",
   "id": "c74d0041-67a7-4c48-ba1f-2a1f7770467c",
   "metadata": {},
   "source": [
    "Average Volume"
   ]
  },
  {
   "cell_type": "code",
   "execution_count": null,
   "id": "b6650021-f2e4-420f-aac2-681639112cb8",
   "metadata": {},
   "outputs": [],
   "source": [
    "# Calculate average volume\n",
    "average_volume = data['Volume'].rolling(window=50).mean().iloc[-1]\n",
    "\n",
    "# Compare current volume with average\n",
    "current_volume = data['Volume'].iloc[-1]\n",
    "if current_volume > average_volume:\n",
    "    volume_trend = \"Higher volume than average\"\n",
    "else:\n",
    "    volume_trend = \"Lower volume than average\"\n"
   ]
  },
  {
   "cell_type": "code",
   "execution_count": null,
   "id": "5182477c-1244-4937-9487-fe285019c1ff",
   "metadata": {},
   "outputs": [],
   "source": [
    "average_volume"
   ]
  },
  {
   "cell_type": "code",
   "execution_count": null,
   "id": "06d89a7b-6591-4877-9dfb-804d837b4e99",
   "metadata": {},
   "outputs": [],
   "source": [
    "volume_trend"
   ]
  },
  {
   "cell_type": "code",
   "execution_count": null,
   "id": "df243245-7a72-4a0d-8c4f-b35128a3f6a3",
   "metadata": {},
   "outputs": [],
   "source": []
  },
  {
   "cell_type": "markdown",
   "id": "be3044fc-7e14-46a9-9a6b-aea033808ba1",
   "metadata": {},
   "source": [
    "ATR (Volatility)\n"
   ]
  },
  {
   "cell_type": "code",
   "execution_count": null,
   "id": "a04a550a-8f6b-4e88-bec0-c68b0349e561",
   "metadata": {},
   "outputs": [],
   "source": [
    "# Calculate ATR (Average True Range)\n",
    "data['High-Low'] = data['High'] - data['Low']\n",
    "data['High-Close'] = abs(data['High'] - data['Adj Close'].shift())\n",
    "data['Low-Close'] = abs(data['Low'] - data['Adj Close'].shift())\n",
    "data['True Range'] = data[['High-Low', 'High-Close', 'Low-Close']].max(axis=1)\n",
    "atr = data['True Range'].rolling(window=14).mean().iloc[-1]\n"
   ]
  },
  {
   "cell_type": "code",
   "execution_count": null,
   "id": "f6d873f5-50a1-4643-ae1e-80bd2c4ab275",
   "metadata": {},
   "outputs": [],
   "source": [
    "atr"
   ]
  },
  {
   "cell_type": "code",
   "execution_count": null,
   "id": "cae88a6d-1a82-404c-a3e2-dcf162ba0a93",
   "metadata": {},
   "outputs": [],
   "source": []
  },
  {
   "cell_type": "markdown",
   "id": "5dad55c5-72e6-44d5-bb62-ae2d28053b7e",
   "metadata": {},
   "source": [
    "Beta Calculation\n"
   ]
  },
  {
   "cell_type": "code",
   "execution_count": null,
   "id": "b3066fdf-31d9-4a3c-9f13-02386601013c",
   "metadata": {},
   "outputs": [],
   "source": [
    "# Assuming you have the data for the S&P 500 or another market index\n",
    "market_data = pd.read_csv('/Users/avinashhm/Desktop/Coca Cola.csv')\n",
    "market_data['Date'] = pd.to_datetime(market_data['Date'])\n",
    "market_data.set_index('Date', inplace=True)\n",
    "\n",
    "# Calculate daily returns for both Coca-Cola and the market\n",
    "coca_cola_returns = data['Adj Close'].pct_change()\n",
    "market_returns = market_data['Adj Close'].pct_change()\n",
    "\n",
    "# Calculate Beta using covariance and variance\n",
    "covariance = coca_cola_returns.cov(market_returns)\n",
    "variance = market_returns.var()\n",
    "beta = covariance / variance\n"
   ]
  },
  {
   "cell_type": "code",
   "execution_count": null,
   "id": "4b6a7d18-410c-4d2d-8692-df5f8b213e57",
   "metadata": {},
   "outputs": [],
   "source": [
    "market_returns"
   ]
  },
  {
   "cell_type": "code",
   "execution_count": null,
   "id": "65d225eb-4f7f-49bc-a52f-cae4f8c44426",
   "metadata": {},
   "outputs": [],
   "source": [
    "beta"
   ]
  },
  {
   "cell_type": "code",
   "execution_count": null,
   "id": "96a0574f-b2d9-489a-9df3-3c0c3e82fa86",
   "metadata": {},
   "outputs": [],
   "source": [
    "variance"
   ]
  },
  {
   "cell_type": "code",
   "execution_count": null,
   "id": "29bf7f26-eaca-44b7-adac-76e9b8dff0a2",
   "metadata": {},
   "outputs": [],
   "source": [
    "coca_cola_returns"
   ]
  },
  {
   "cell_type": "code",
   "execution_count": null,
   "id": "b1f2eeae-1126-4bbe-8314-f3385a5db33b",
   "metadata": {},
   "outputs": [],
   "source": [
    "market_data.set_index"
   ]
  },
  {
   "cell_type": "code",
   "execution_count": null,
   "id": "92f1f415-0df6-4d60-a772-1997b15abc73",
   "metadata": {},
   "outputs": [],
   "source": []
  },
  {
   "cell_type": "code",
   "execution_count": null,
   "id": "bd6cc3de-7de5-4e78-9dbc-bc8ce3113ff3",
   "metadata": {},
   "outputs": [],
   "source": []
  },
  {
   "cell_type": "markdown",
   "id": "1f1d0f7f-d4ea-498e-84e5-7b63165e2e47",
   "metadata": {},
   "source": [
    "Analysis"
   ]
  },
  {
   "cell_type": "markdown",
   "id": "3920dee9-1dd7-426b-a5a5-c73dbc582f8e",
   "metadata": {},
   "source": [
    "1. Volume Analysis"
   ]
  },
  {
   "cell_type": "code",
   "execution_count": null,
   "id": "adccf7bd-5b9b-43ca-9975-50b15753f5d6",
   "metadata": {},
   "outputs": [],
   "source": [
    "# Calculate the 50-day moving average of volume\n",
    "data['50-Day Volume MA'] = data['Volume'].rolling(window=50).mean()\n",
    "\n",
    "# Compare current volume with average volume\n",
    "current_volume = data['Volume'].iloc[-1]\n",
    "average_volume = data['50-Day Volume MA'].iloc[-1]\n",
    "if current_volume > average_volume:\n",
    "    volume_trend = \"Higher volume than average\"\n",
    "else:\n",
    "    volume_trend = \"Lower volume than average\"\n",
    "\n",
    "print(f\"Volume Trend: {volume_trend}\")\n"
   ]
  },
  {
   "cell_type": "markdown",
   "id": "7771cc7c-76a7-4a13-ac56-7f901b524a43",
   "metadata": {},
   "source": [
    "2. Average True Range (ATR) for Volatility"
   ]
  },
  {
   "cell_type": "code",
   "execution_count": null,
   "id": "c4fc209c-4fa1-4bd3-9d7c-57f7dac3c741",
   "metadata": {},
   "outputs": [],
   "source": [
    "# Calculate True Range\n",
    "data['High-Low'] = data['High'] - data['Low']\n",
    "data['High-Close'] = abs(data['High'] - data['Adj Close'].shift())\n",
    "data['Low-Close'] = abs(data['Low'] - data['Adj Close'].shift())\n",
    "data['True Range'] = data[['High-Low', 'High-Close', 'Low-Close']].max(axis=1)\n",
    "\n",
    "# Calculate 14-day ATR (average of True Range)\n",
    "atr = data['True Range'].rolling(window=14).mean().iloc[-1]\n",
    "print(f\"ATR (Volatility): {atr:.2f}\")\n"
   ]
  },
  {
   "cell_type": "markdown",
   "id": "92ef952a-54f8-4213-8a7b-e54cd05ebeaf",
   "metadata": {},
   "source": [
    "3. Fibonacci Retracement Levels"
   ]
  },
  {
   "cell_type": "code",
   "execution_count": null,
   "id": "19cc5333-2616-48fd-b5f6-a9c0487ea46d",
   "metadata": {},
   "outputs": [],
   "source": [
    "# Define the high and low price over a period\n",
    "high_price = data['High'].max()\n",
    "low_price = data['Low'].min()\n",
    "\n",
    "# Fibonacci levels\n",
    "diff = high_price - low_price\n",
    "level_23_6 = high_price - 0.236 * diff\n",
    "level_38_2 = high_price - 0.382 * diff\n",
    "level_50 = high_price - 0.5 * diff\n",
    "level_61_8 = high_price - 0.618 * diff\n",
    "\n",
    "print(f\"Fibonacci Levels:\")\n",
    "print(f\"23.6% Level: {level_23_6}\")\n",
    "print(f\"38.2% Level: {level_38_2}\")\n",
    "print(f\"50% Level: {level_50}\")\n",
    "print(f\"61.8% Level: {level_61_8}\")\n"
   ]
  },
  {
   "cell_type": "markdown",
   "id": "c441bdd3-06c1-47d5-aa5f-f37860b31194",
   "metadata": {},
   "source": [
    "4. On-Balance Volume (OBV)\n"
   ]
  },
  {
   "cell_type": "code",
   "execution_count": null,
   "id": "5b51ef96-5f71-41b0-b102-0438e39cc254",
   "metadata": {},
   "outputs": [],
   "source": [
    "# Calculate OBV\n",
    "data['Daily Return'] = data['Adj Close'].pct_change()\n",
    "data['Direction'] = np.where(data['Daily Return'] >= 0, 1, -1)\n",
    "data['OBV'] = data['Direction'] * data['Volume']\n",
    "data['OBV'] = data['OBV'].cumsum()\n",
    "\n",
    "# Last OBV value\n",
    "obv = data['OBV'].iloc[-1]\n",
    "print(f\"OBV (On-Balance Volume): {obv}\")\n"
   ]
  },
  {
   "cell_type": "markdown",
   "id": "fd767732-dd15-495d-b4a4-0292283b0258",
   "metadata": {},
   "source": [
    "5. Price Action and Candlestick Patterns"
   ]
  },
  {
   "cell_type": "code",
   "execution_count": null,
   "id": "1e6ee419-460f-4352-9d54-3e7a67710890",
   "metadata": {},
   "outputs": [],
   "source": [
    "# Bullish Engulfing Pattern (Current candle engulfs previous)\n",
    "data['Bullish Engulfing'] = np.where(\n",
    "    (data['Adj Close'].shift(1) < data['Open'].shift(1)) & \n",
    "    (data['Adj Close'] > data['Open']) & \n",
    "    (data['Open'] < data['Close'].shift(1)), 1, 0\n",
    ")\n",
    "\n",
    "# Count bullish engulfing patterns\n",
    "bullish_engulfing_count = data['Bullish Engulfing'].sum()\n",
    "print(f\"Bullish Engulfing Patterns Count: {bullish_engulfing_count}\")\n"
   ]
  },
  {
   "cell_type": "markdown",
   "id": "d90ccc1e-d196-4759-8121-4618068f3499",
   "metadata": {},
   "source": [
    "6. Earnings Per Share (EPS) and P/E Ratio"
   ]
  },
  {
   "cell_type": "code",
   "execution_count": null,
   "id": "8f6ae585-eb35-453b-99af-abfde9957262",
   "metadata": {},
   "outputs": [],
   "source": [
    "# Let's assume we have EPS and stock price (P/E ratio) from a CSV or database\n",
    "eps = 2.10  # Example EPS for Coca-Cola\n",
    "price = data['Adj Close'].iloc[-1]\n",
    "pe_ratio = price / eps\n",
    "\n",
    "print(f\"P/E Ratio: {pe_ratio:.2f}\")\n"
   ]
  },
  {
   "cell_type": "markdown",
   "id": "dfca6057-0446-4f64-a944-a2572f758403",
   "metadata": {},
   "source": [
    "7. Dividend Yield and Payout Ratio"
   ]
  },
  {
   "cell_type": "code",
   "execution_count": null,
   "id": "8cfa8369-7bd6-4415-956c-74c66e235894",
   "metadata": {},
   "outputs": [],
   "source": [
    "# Example Dividend Yield and Payout Ratio (You would get this from company data)\n",
    "dividend_per_share = 1.68  # Example dividend per share\n",
    "dividend_yield = (dividend_per_share / price) * 100\n",
    "\n",
    "# Assuming a payout ratio from company earnings (Earnings = EPS * Shares Outstanding)\n",
    "payout_ratio = (dividend_per_share / eps) * 100\n",
    "\n",
    "print(f\"Dividend Yield: {dividend_yield:.2f}%\")\n",
    "print(f\"Payout Ratio: {payout_ratio:.2f}%\")\n"
   ]
  },
  {
   "cell_type": "markdown",
   "id": "1554511f-976f-4a0d-a775-b8479c80c0d3",
   "metadata": {},
   "source": [
    "8. Beta (Stock Volatility Relative to Market)"
   ]
  },
  {
   "cell_type": "code",
   "execution_count": null,
   "id": "03378cc9-bfcc-44ef-97ee-487e907e2f61",
   "metadata": {},
   "outputs": [],
   "source": [
    "# Assuming you have market data for S&P 500 or another benchmark index\n",
    "market_data = pd.read_csv('/Users/avinashhm/Desktop/Coca Cola.csv')\n",
    "market_data['Date'] = pd.to_datetime(market_data['Date'])\n",
    "market_data.set_index('Date', inplace=True)\n",
    "\n",
    "# Calculate daily returns for Coca-Cola and the market\n",
    "coca_cola_returns = data['Adj Close'].pct_change()\n",
    "market_returns = market_data['Adj Close'].pct_change()\n",
    "\n",
    "# Calculate Beta using covariance and variance\n",
    "covariance = coca_cola_returns.cov(market_returns)\n",
    "variance = market_returns.var()\n",
    "beta = covariance / variance\n",
    "\n",
    "print(f\"Beta: {beta:.2f}\")\n"
   ]
  },
  {
   "cell_type": "markdown",
   "id": "c21e11b3-70c9-4535-a11d-aade55a0a099",
   "metadata": {},
   "source": [
    "9. Institutional Ownership"
   ]
  },
  {
   "cell_type": "code",
   "execution_count": null,
   "id": "54406c2a-60a8-400c-b69b-bdb1f79ef68b",
   "metadata": {},
   "outputs": [],
   "source": [
    "# Example institutional ownership data (percentage of shares owned by institutions)\n",
    "institutional_ownership = 70  # Example: 70% of shares are held by institutional investors\n",
    "\n",
    "print(f\"Institutional Ownership: {institutional_ownership}%\")\n"
   ]
  },
  {
   "cell_type": "code",
   "execution_count": null,
   "id": "0c4d4af3-3e70-4945-a111-c301e9965817",
   "metadata": {},
   "outputs": [],
   "source": []
  },
  {
   "cell_type": "markdown",
   "id": "e2d02d86-51f3-450e-9062-8c1b635d72df",
   "metadata": {},
   "source": [
    "Integrating These Findings into Your Report"
   ]
  },
  {
   "cell_type": "code",
   "execution_count": null,
   "id": "05c561d1-def0-48e5-91a7-a3f2abe9b786",
   "metadata": {},
   "outputs": [],
   "source": [
    "findings = {}\n",
    "\n",
    "# Add findings to the report\n",
    "findings['Volume Trend'] = volume_trend\n",
    "findings['ATR (Volatility)'] = atr\n",
    "findings['Fibonacci Levels'] = {\n",
    "    \"23.6%\": level_23_6,\n",
    "    \"38.2%\": level_38_2,\n",
    "    \"50%\": level_50,\n",
    "    \"61.8%\": level_61_8\n",
    "}\n",
    "findings['OBV'] = obv\n",
    "findings['Bullish Engulfing Patterns'] = bullish_engulfing_count\n",
    "findings['P/E Ratio'] = pe_ratio\n",
    "findings['Dividend Yield'] = dividend_yield\n",
    "findings['Payout Ratio'] = payout_ratio\n",
    "findings['Beta'] = beta\n",
    "findings['Institutional Ownership'] = institutional_ownership\n",
    "\n",
    "# Print the entire findings\n",
    "for key, value in findings.items():\n",
    "    print(f\"{key}: {value}\")\n"
   ]
  },
  {
   "cell_type": "code",
   "execution_count": null,
   "id": "d49faefa-5fa4-4c4b-811d-ef4c523ad975",
   "metadata": {},
   "outputs": [],
   "source": []
  },
  {
   "cell_type": "code",
   "execution_count": null,
   "id": "48a35ea4-639f-43be-8f47-9444aa5f6f9c",
   "metadata": {},
   "outputs": [],
   "source": []
  },
  {
   "cell_type": "code",
   "execution_count": null,
   "id": "3190ecdd-7cb2-4fb3-9b2f-0fa6f0bf78df",
   "metadata": {},
   "outputs": [],
   "source": []
  },
  {
   "cell_type": "markdown",
   "id": "ffad57c1-ded3-495d-87a1-2ec7dd3590ea",
   "metadata": {},
   "source": [
    "Stock Analysis"
   ]
  },
  {
   "cell_type": "code",
   "execution_count": null,
   "id": "0fe91435-a0ea-4280-858b-3249527bb7af",
   "metadata": {},
   "outputs": [],
   "source": [
    "import pandas as pd\n",
    "import numpy as np\n",
    "import matplotlib.pyplot as plt\n",
    "import mplfinance as mpf\n",
    "\n",
    "# Load Coca-Cola stock data (adjust file path if necessary)\n",
    "data = pd.read_csv('/Users/avinashhm/Desktop/Coca Cola.csv')\n",
    "data['Date'] = pd.to_datetime(data['Date'])\n",
    "data.set_index('Date', inplace=True)\n",
    "\n",
    "# 1. Moving Averages (50-Day and 200-Day)\n",
    "data['50-Day MA'] = data['Adj Close'].rolling(window=50).mean()\n",
    "data['200-Day MA'] = data['Adj Close'].rolling(window=200).mean()\n",
    "\n",
    "# 2. RSI (Relative Strength Index)\n",
    "delta = data['Adj Close'].diff()\n",
    "gain = (delta.where(delta > 0, 0)).rolling(window=14).mean()\n",
    "loss = (-delta.where(delta < 0, 0)).rolling(window=14).mean()\n",
    "rs = gain / loss\n",
    "data['RSI'] = 100 - (100 / (1 + rs))\n",
    "\n",
    "# 3. Bollinger Bands\n",
    "data['Upper Band'] = data['50-Day MA'] + (data['Adj Close'].rolling(window=50).std() * 2)\n",
    "data['Lower Band'] = data['50-Day MA'] - (data['Adj Close'].rolling(window=50).std() * 2)\n",
    "\n",
    "# 4. MACD (Moving Average Convergence Divergence)\n",
    "ema_12 = data['Adj Close'].ewm(span=12, adjust=False).mean()\n",
    "ema_26 = data['Adj Close'].ewm(span=26, adjust=False).mean()\n",
    "data['MACD'] = ema_12 - ema_26\n",
    "data['Signal Line'] = data['MACD'].ewm(span=9, adjust=False).mean()\n",
    "\n",
    "# 5. ATR (Average True Range for Volatility)\n",
    "data['High-Low'] = data['High'] - data['Low']\n",
    "data['High-Close'] = abs(data['High'] - data['Adj Close'].shift())\n",
    "data['Low-Close'] = abs(data['Low'] - data['Adj Close'].shift())\n",
    "data['True Range'] = data[['High-Low', 'High-Close', 'Low-Close']].max(axis=1)\n",
    "data['ATR'] = data['True Range'].rolling(window=14).mean()\n",
    "\n",
    "# 6. Fibonacci Retracement Levels\n",
    "high_price = data['High'].max()\n",
    "low_price = data['Low'].min()\n",
    "diff = high_price - low_price\n",
    "level_23_6 = high_price - 0.236 * diff\n",
    "level_38_2 = high_price - 0.382 * diff\n",
    "level_50 = high_price - 0.5 * diff\n",
    "level_61_8 = high_price - 0.618 * diff\n",
    "\n",
    "# Plotting the charts\n",
    "\n",
    "# 3. MACD and Signal Line\n",
    "plt.figure(figsize=(14, 6))\n",
    "plt.plot(data['MACD'], label='MACD', color='blue')\n",
    "plt.plot(data['Signal Line'], label='Signal Line', color='red')\n",
    "plt.title('MACD (Moving Average Convergence Divergence)')\n",
    "plt.legend()\n",
    "plt.show()\n",
    "\n",
    "# 4. Bollinger Bands\n",
    "plt.figure(figsize=(14, 6))\n",
    "plt.plot(data['Adj Close'], label='Adjusted Close Price', color='black')\n",
    "plt.plot(data['Upper Band'], label='Upper Bollinger Band', color='green', linestyle='--')\n",
    "plt.plot(data['Lower Band'], label='Lower Bollinger Band', color='red', linestyle='--')\n",
    "plt.fill_between(data.index, data['Upper Band'], data['Lower Band'], color='lightgray', alpha=0.5)\n",
    "plt.title('Bollinger Bands')\n",
    "plt.legend()\n",
    "plt.show()\n",
    "\n",
    "# 5. ATR (Volatility)\n",
    "plt.figure(figsize=(14, 6))\n",
    "plt.plot(data['ATR'], label='ATR (Volatility)', color='orange')\n",
    "plt.title('Average True Range (ATR)')\n",
    "plt.legend()\n",
    "plt.show()\n",
    "\n",
    "# 6. Fibonacci Retracement Levels (Plotting on the chart)\n",
    "plt.figure(figsize=(14, 6))\n",
    "plt.plot(data['Adj Close'], label='Adjusted Close Price', color='black')\n",
    "plt.axhline(level_23_6, linestyle='--', color='blue', label=\"23.6% Fibonacci Level\")\n",
    "plt.axhline(level_38_2, linestyle='--', color='green', label=\"38.2% Fibonacci Level\")\n",
    "plt.axhline(level_50, linestyle='--', color='orange', label=\"50% Fibonacci Level\")\n",
    "plt.axhline(level_61_8, linestyle='--', color='red', label=\"61.8% Fibonacci Level\")\n",
    "plt.title('Fibonacci Retracement Levels')\n",
    "plt.legend()\n",
    "plt.show()\n"
   ]
  },
  {
   "cell_type": "code",
   "execution_count": null,
   "id": "dd11c319-012a-4d42-bef1-d38176153e03",
   "metadata": {},
   "outputs": [],
   "source": []
  }
 ],
 "metadata": {
  "kernelspec": {
   "display_name": "Python 3",
   "language": "python",
   "name": "python3"
  },
  "language_info": {
   "codemirror_mode": {
    "name": "ipython",
    "version": 3
   },
   "file_extension": ".py",
   "mimetype": "text/x-python",
   "name": "python",
   "nbconvert_exporter": "python",
   "pygments_lexer": "ipython3",
   "version": "3.13.0"
  }
 },
 "nbformat": 4,
 "nbformat_minor": 5
}
